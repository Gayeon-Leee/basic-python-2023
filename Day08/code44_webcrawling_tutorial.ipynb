{
 "cells": [
  {
   "attachments": {},
   "cell_type": "markdown",
   "metadata": {},
   "source": [
    "## 웹 크롤링\n",
    "\n",
    "### 인터넷 접속 라이브러리 추가\n",
    "\n",
    "- urllib.request 모듈로 작업\n",
    "- html 소스 로드로 별다른 문제 없음"
   ]
  },
  {
   "cell_type": "code",
   "execution_count": 3,
   "metadata": {},
   "outputs": [
    {
     "name": "stdout",
     "output_type": "stream",
     "text": [
      "부산의 현재 기온은 11.6˚C 입니다.\n",
      "부산의 현재 습도는 26% 입니다.\n"
     ]
    }
   ],
   "source": [
    "from urllib.request import urlopen, Request\n",
    "\n",
    "# 도시별 날씨 검색 함수\n",
    "def get_weather(city):\n",
    "    # 기상청 홈페이지 도시별 날씨 페이지\n",
    "    url = 'https://www.weather.go.kr/w/obs-climate/land/city-obs.do'\n",
    "    page = urlopen(url=url)\n",
    "\n",
    "    text = page.read().decode('utf-8')\n",
    "    text = text[text.find(f'>{city}</a>'):]\n",
    "\n",
    "    # 기온 가져오기 => 정보값이 13개라 반복문 총 13번 돌 수 있음\n",
    "    for i in range(7):\n",
    "        text = text[text.find('<td>')+1:]\n",
    "    \n",
    "    start = 3\n",
    "    end = text.find('</td>')\n",
    "    current_temp = text[start:end]\n",
    "    print(f'{city}의 현재 기온은 {current_temp}˚C 입니다.')\n",
    "\n",
    "    # 습도 가져오기\n",
    "    for i in range(3): # 위에서 7로 이미 가져왔기때문에 그 뒤에 남은걸로만 range 해야하는 것\n",
    "        text = text[text.find('<td>')+1:]\n",
    "    \n",
    "    start = 3\n",
    "    end = text.find('</td>')\n",
    "    current_humid = text[start:end]\n",
    "    print(f'{city}의 현재 습도는 {current_humid}% 입니다.')\n",
    "\n",
    "get_weather('부산')\n"
   ]
  },
  {
   "attachments": {},
   "cell_type": "markdown",
   "metadata": {},
   "source": [
    "### OpenAPI 크롤링\n",
    "\n",
    "- 공공데이터 포털\n",
    "    - http://www.data.go.kr\n",
    "    - 부산광역시 버스정보안내기 현황\n",
    "\n",
    "```python\n",
    " response = requests.get(total_url, verify=False)\n",
    " ```\n",
    "- 문제점\n",
    "    - https를 일반 request로 부르면 SSL 오류발생\n",
    "    - 해결하려면 외부모듈 requests를 사용, verify=False(검증을 하지 않겠다는 뜻) 옵션을 지정해야 문제 해결 \n",
    "    - 아래 셀의 19번 라인!"
   ]
  },
  {
   "cell_type": "code",
   "execution_count": 14,
   "metadata": {},
   "outputs": [
    {
     "name": "stderr",
     "output_type": "stream",
     "text": [
      "c:\\DEV\\Langs\\Python311\\Lib\\site-packages\\urllib3\\connectionpool.py:1045: InsecureRequestWarning: Unverified HTTPS request is being made to host 'apis.data.go.kr'. Adding certificate verification is strongly advised. See: https://urllib3.readthedocs.io/en/1.26.x/advanced-usage.html#ssl-warnings\n",
      "  warnings.warn(\n"
     ]
    },
    {
     "name": "stdout",
     "output_type": "stream",
     "text": [
      "{'stationNum': '07006', 'stationLoc': '경성대.부경대역', 'lat': '35.13856124', 'lng': '129.1023074', 'addr': '남구 대연3동 93-7', 'insYear': '', 'dataDay': '2023-02-03'}\n",
      "{'stationNum': '07007', 'stationLoc': '경성대.부경대역', 'lat': '35.13837971', 'lng': '129.1024864', 'addr': '남구 대연3동 90-2', 'insYear': '', 'dataDay': '2023-02-03'}\n",
      "{'stationNum': '07011', 'stationLoc': '부경대대연캠퍼스', 'lat': '35.13287689', 'lng': '129.1012804', 'addr': '남구 대연3동 531-2', 'insYear': '', 'dataDay': '2023-02-03'}\n",
      "{'stationNum': '07012', 'stationLoc': '부경대대연캠퍼스', 'lat': '35.13234515', 'lng': '129.1010586', 'addr': '남구 대연3동 537-1', 'insYear': '', 'dataDay': '2023-02-03'}\n"
     ]
    }
   ],
   "source": [
    "import requests\n",
    "from urllib.parse import quote, unquote, urlencode # 한글을 URLencode 로 변환하는 함수 '롯데' -> '%EB%A1%AF%EB%8D%B0'\n",
    "import json\n",
    "\n",
    "\n",
    "# stationName 정류소이름\n",
    "def getDataPortalSearch(stationName,type):\n",
    "    api_url = 'https://apis.data.go.kr/6260000/BusanTblBusinfoeqStusService/getTblBusinfoeqStusInfo'\n",
    "    queryString = \"?\"+ urlencode(\n",
    "        {\n",
    "            'serviceKey' : '6U1OgOHXoO56/qdyFMr/5XyU8d6H2iWdFnZmtNuLA+hDq3mNlkfOIxbEpgVMVWrU9cb5HM8NAs2iNA0UcXE8ag==',\n",
    "            'pageNo' : '1',\n",
    "            'numOfRows' : '10',\n",
    "            'resultType' : type,\n",
    "            'stationLoc' : stationName\n",
    "        }\n",
    "    )\n",
    "    \n",
    "    total_url = api_url + queryString\n",
    "    response = requests.get(total_url, verify=False)\n",
    "    return response.text\n",
    "\n",
    "try:    \n",
    "    result = getDataPortalSearch('부경대', 'json')\n",
    "    json_data = json.loads(result)\n",
    "\n",
    "    station_data = json_data['getTblBusinfoeqStusInfo']['body']['items']['item']\n",
    "\n",
    "    for item in station_data:\n",
    "        print(item)\n",
    "\n",
    "except Exception as e:\n",
    "    print('찾는 데이터가 없습니다.')\n",
    "\n",
    "\n"
   ]
  },
  {
   "attachments": {},
   "cell_type": "markdown",
   "metadata": {},
   "source": [
    "### OpenAPI로 가져온 데이터를 지도에 표시\n",
    "\n",
    "```python\n",
    "stop_str = '<h4>' + item['stationLoc'] + '</h4>' +  item['stationNum'] + '<br>' + item['addr']\n",
    "```\n",
    "\n",
    "- 문제점\n",
    "    - 딕셔너리 구조하고 문자열 포맷팅 f'{} 호환 안됨!\n",
    "    - 구식방법인 문자열 결합 방식으로 해결"
   ]
  },
  {
   "cell_type": "code",
   "execution_count": 15,
   "metadata": {},
   "outputs": [
    {
     "data": {
      "text/html": [
       "<div style=\"width:100%;\"><div style=\"position:relative;width:100%;height:0;padding-bottom:60%;\"><span style=\"color:#565656\">Make this Notebook Trusted to load map: File -> Trust Notebook</span><iframe srcdoc=\"&lt;!DOCTYPE html&gt;\n",
       "&lt;html&gt;\n",
       "&lt;head&gt;\n",
       "    \n",
       "    &lt;meta http-equiv=&quot;content-type&quot; content=&quot;text/html; charset=UTF-8&quot; /&gt;\n",
       "    \n",
       "        &lt;script&gt;\n",
       "            L_NO_TOUCH = false;\n",
       "            L_DISABLE_3D = false;\n",
       "        &lt;/script&gt;\n",
       "    \n",
       "    &lt;style&gt;html, body {width: 100%;height: 100%;margin: 0;padding: 0;}&lt;/style&gt;\n",
       "    &lt;style&gt;#map {position:absolute;top:0;bottom:0;right:0;left:0;}&lt;/style&gt;\n",
       "    &lt;script src=&quot;https://cdn.jsdelivr.net/npm/leaflet@1.9.3/dist/leaflet.js&quot;&gt;&lt;/script&gt;\n",
       "    &lt;script src=&quot;https://code.jquery.com/jquery-1.12.4.min.js&quot;&gt;&lt;/script&gt;\n",
       "    &lt;script src=&quot;https://cdn.jsdelivr.net/npm/bootstrap@5.2.2/dist/js/bootstrap.bundle.min.js&quot;&gt;&lt;/script&gt;\n",
       "    &lt;script src=&quot;https://cdnjs.cloudflare.com/ajax/libs/Leaflet.awesome-markers/2.0.2/leaflet.awesome-markers.js&quot;&gt;&lt;/script&gt;\n",
       "    &lt;link rel=&quot;stylesheet&quot; href=&quot;https://cdn.jsdelivr.net/npm/leaflet@1.9.3/dist/leaflet.css&quot;/&gt;\n",
       "    &lt;link rel=&quot;stylesheet&quot; href=&quot;https://cdn.jsdelivr.net/npm/bootstrap@5.2.2/dist/css/bootstrap.min.css&quot;/&gt;\n",
       "    &lt;link rel=&quot;stylesheet&quot; href=&quot;https://netdna.bootstrapcdn.com/bootstrap/3.0.0/css/bootstrap.min.css&quot;/&gt;\n",
       "    &lt;link rel=&quot;stylesheet&quot; href=&quot;https://cdn.jsdelivr.net/npm/@fortawesome/fontawesome-free@6.2.0/css/all.min.css&quot;/&gt;\n",
       "    &lt;link rel=&quot;stylesheet&quot; href=&quot;https://cdnjs.cloudflare.com/ajax/libs/Leaflet.awesome-markers/2.0.2/leaflet.awesome-markers.css&quot;/&gt;\n",
       "    &lt;link rel=&quot;stylesheet&quot; href=&quot;https://cdn.jsdelivr.net/gh/python-visualization/folium/folium/templates/leaflet.awesome.rotate.min.css&quot;/&gt;\n",
       "    \n",
       "            &lt;meta name=&quot;viewport&quot; content=&quot;width=device-width,\n",
       "                initial-scale=1.0, maximum-scale=1.0, user-scalable=no&quot; /&gt;\n",
       "            &lt;style&gt;\n",
       "                #map_1a6263defd0800163969e50764348bb6 {\n",
       "                    position: relative;\n",
       "                    width: 100.0%;\n",
       "                    height: 100.0%;\n",
       "                    left: 0.0%;\n",
       "                    top: 0.0%;\n",
       "                }\n",
       "                .leaflet-container { font-size: 1rem; }\n",
       "            &lt;/style&gt;\n",
       "        \n",
       "&lt;/head&gt;\n",
       "&lt;body&gt;\n",
       "    \n",
       "    \n",
       "            &lt;div class=&quot;folium-map&quot; id=&quot;map_1a6263defd0800163969e50764348bb6&quot; &gt;&lt;/div&gt;\n",
       "        \n",
       "&lt;/body&gt;\n",
       "&lt;script&gt;\n",
       "    \n",
       "    \n",
       "            var map_1a6263defd0800163969e50764348bb6 = L.map(\n",
       "                &quot;map_1a6263defd0800163969e50764348bb6&quot;,\n",
       "                {\n",
       "                    center: [35.13856124, 129.1023074],\n",
       "                    crs: L.CRS.EPSG3857,\n",
       "                    zoom: 13,\n",
       "                    zoomControl: true,\n",
       "                    preferCanvas: false,\n",
       "                }\n",
       "            );\n",
       "\n",
       "            \n",
       "\n",
       "        \n",
       "    \n",
       "            var tile_layer_6664b46a67e1de7e2e873e75943c7e6f = L.tileLayer(\n",
       "                &quot;https://{s}.tile.openstreetmap.org/{z}/{x}/{y}.png&quot;,\n",
       "                {&quot;attribution&quot;: &quot;Data by \\u0026copy; \\u003ca target=\\&quot;_blank\\&quot; href=\\&quot;http://openstreetmap.org\\&quot;\\u003eOpenStreetMap\\u003c/a\\u003e, under \\u003ca target=\\&quot;_blank\\&quot; href=\\&quot;http://www.openstreetmap.org/copyright\\&quot;\\u003eODbL\\u003c/a\\u003e.&quot;, &quot;detectRetina&quot;: false, &quot;maxNativeZoom&quot;: 18, &quot;maxZoom&quot;: 18, &quot;minZoom&quot;: 0, &quot;noWrap&quot;: false, &quot;opacity&quot;: 1, &quot;subdomains&quot;: &quot;abc&quot;, &quot;tms&quot;: false}\n",
       "            ).addTo(map_1a6263defd0800163969e50764348bb6);\n",
       "        \n",
       "    \n",
       "            var marker_dc54e44291751ead7155a85b86ca4d8f = L.marker(\n",
       "                [35.13856124, 129.1023074],\n",
       "                {}\n",
       "            ).addTo(map_1a6263defd0800163969e50764348bb6);\n",
       "        \n",
       "    \n",
       "            var icon_3f8968c11fa36b6e62582708f51a9730 = L.AwesomeMarkers.icon(\n",
       "                {&quot;extraClasses&quot;: &quot;fa-rotate-0&quot;, &quot;icon&quot;: &quot;pushpin&quot;, &quot;iconColor&quot;: &quot;white&quot;, &quot;markerColor&quot;: &quot;blue&quot;, &quot;prefix&quot;: &quot;glyphicon&quot;}\n",
       "            );\n",
       "            marker_dc54e44291751ead7155a85b86ca4d8f.setIcon(icon_3f8968c11fa36b6e62582708f51a9730);\n",
       "        \n",
       "    \n",
       "        var popup_46f217121694d088930903351d5ad79c = L.popup({&quot;maxWidth&quot;: 200, &quot;minWidth&quot;: 200});\n",
       "\n",
       "        \n",
       "            \n",
       "                var i_frame_b93f9e086b053b61f39184db024ed65c = $(`&lt;div style=&quot;width:100%;&quot;&gt;&lt;div style=&quot;position:relative;width:100%;height:0;padding-bottom:60%;&quot;&gt;&lt;iframe src=&quot;data:text/html;charset=utf-8;base64,CiAgICA8aDQ+6rK97ISx64yALuu2gOqyveuMgOyXrTwvaDQ+MDcwMDY8YnI+64Ko6rWsIOuMgOyXsDPrj5kgOTMtNw==&quot; style=&quot;position:absolute;width:100%;height:100%;left:0;top:0;border:none !important;&quot;&gt;&lt;/iframe&gt;&lt;/div&gt;&lt;/div&gt;`)[0];\n",
       "                popup_46f217121694d088930903351d5ad79c.setContent(i_frame_b93f9e086b053b61f39184db024ed65c);\n",
       "            \n",
       "        \n",
       "\n",
       "        marker_dc54e44291751ead7155a85b86ca4d8f.bindPopup(popup_46f217121694d088930903351d5ad79c)\n",
       "        ;\n",
       "\n",
       "        \n",
       "    \n",
       "    \n",
       "            var marker_30048ec6576caac87bb39ee632875fa7 = L.marker(\n",
       "                [35.13837971, 129.1024864],\n",
       "                {}\n",
       "            ).addTo(map_1a6263defd0800163969e50764348bb6);\n",
       "        \n",
       "    \n",
       "            var icon_27f4f5f24a14aba5637bb8761b673328 = L.AwesomeMarkers.icon(\n",
       "                {&quot;extraClasses&quot;: &quot;fa-rotate-0&quot;, &quot;icon&quot;: &quot;pushpin&quot;, &quot;iconColor&quot;: &quot;white&quot;, &quot;markerColor&quot;: &quot;blue&quot;, &quot;prefix&quot;: &quot;glyphicon&quot;}\n",
       "            );\n",
       "            marker_30048ec6576caac87bb39ee632875fa7.setIcon(icon_27f4f5f24a14aba5637bb8761b673328);\n",
       "        \n",
       "    \n",
       "        var popup_5c46a4213dbba0558f4945a26379c206 = L.popup({&quot;maxWidth&quot;: 200, &quot;minWidth&quot;: 200});\n",
       "\n",
       "        \n",
       "            \n",
       "                var i_frame_6a5448e945b48c07c4e9dcac3363ea37 = $(`&lt;div style=&quot;width:100%;&quot;&gt;&lt;div style=&quot;position:relative;width:100%;height:0;padding-bottom:60%;&quot;&gt;&lt;iframe src=&quot;data:text/html;charset=utf-8;base64,CiAgICA8aDQ+6rK97ISx64yALuu2gOqyveuMgOyXrTwvaDQ+MDcwMDc8YnI+64Ko6rWsIOuMgOyXsDPrj5kgOTAtMg==&quot; style=&quot;position:absolute;width:100%;height:100%;left:0;top:0;border:none !important;&quot;&gt;&lt;/iframe&gt;&lt;/div&gt;&lt;/div&gt;`)[0];\n",
       "                popup_5c46a4213dbba0558f4945a26379c206.setContent(i_frame_6a5448e945b48c07c4e9dcac3363ea37);\n",
       "            \n",
       "        \n",
       "\n",
       "        marker_30048ec6576caac87bb39ee632875fa7.bindPopup(popup_5c46a4213dbba0558f4945a26379c206)\n",
       "        ;\n",
       "\n",
       "        \n",
       "    \n",
       "    \n",
       "            var marker_572c9f9c9b444fe93187a650d1fac79e = L.marker(\n",
       "                [35.13287689, 129.1012804],\n",
       "                {}\n",
       "            ).addTo(map_1a6263defd0800163969e50764348bb6);\n",
       "        \n",
       "    \n",
       "            var icon_216262884ce92d393043485f1bbaef57 = L.AwesomeMarkers.icon(\n",
       "                {&quot;extraClasses&quot;: &quot;fa-rotate-0&quot;, &quot;icon&quot;: &quot;pushpin&quot;, &quot;iconColor&quot;: &quot;white&quot;, &quot;markerColor&quot;: &quot;blue&quot;, &quot;prefix&quot;: &quot;glyphicon&quot;}\n",
       "            );\n",
       "            marker_572c9f9c9b444fe93187a650d1fac79e.setIcon(icon_216262884ce92d393043485f1bbaef57);\n",
       "        \n",
       "    \n",
       "        var popup_69134258db144f3ac4c4cd31f3a88bd1 = L.popup({&quot;maxWidth&quot;: 200, &quot;minWidth&quot;: 200});\n",
       "\n",
       "        \n",
       "            \n",
       "                var i_frame_4c0fff9db6d009125f1bf010a7cfaed6 = $(`&lt;div style=&quot;width:100%;&quot;&gt;&lt;div style=&quot;position:relative;width:100%;height:0;padding-bottom:60%;&quot;&gt;&lt;iframe src=&quot;data:text/html;charset=utf-8;base64,CiAgICA8aDQ+67aA6rK964yA64yA7Jew7Lqg7Y287IqkPC9oND4wNzAxMTxicj7rgqjqtawg64yA7JewM+uPmSA1MzEtMg==&quot; style=&quot;position:absolute;width:100%;height:100%;left:0;top:0;border:none !important;&quot;&gt;&lt;/iframe&gt;&lt;/div&gt;&lt;/div&gt;`)[0];\n",
       "                popup_69134258db144f3ac4c4cd31f3a88bd1.setContent(i_frame_4c0fff9db6d009125f1bf010a7cfaed6);\n",
       "            \n",
       "        \n",
       "\n",
       "        marker_572c9f9c9b444fe93187a650d1fac79e.bindPopup(popup_69134258db144f3ac4c4cd31f3a88bd1)\n",
       "        ;\n",
       "\n",
       "        \n",
       "    \n",
       "    \n",
       "            var marker_47c8c3ecd693974da9e7f094678e9c52 = L.marker(\n",
       "                [35.13234515, 129.1010586],\n",
       "                {}\n",
       "            ).addTo(map_1a6263defd0800163969e50764348bb6);\n",
       "        \n",
       "    \n",
       "            var icon_6e203b67f0dc6f472eb18962b6672f90 = L.AwesomeMarkers.icon(\n",
       "                {&quot;extraClasses&quot;: &quot;fa-rotate-0&quot;, &quot;icon&quot;: &quot;pushpin&quot;, &quot;iconColor&quot;: &quot;white&quot;, &quot;markerColor&quot;: &quot;blue&quot;, &quot;prefix&quot;: &quot;glyphicon&quot;}\n",
       "            );\n",
       "            marker_47c8c3ecd693974da9e7f094678e9c52.setIcon(icon_6e203b67f0dc6f472eb18962b6672f90);\n",
       "        \n",
       "    \n",
       "        var popup_5eae84e1cd0ab673a574eab8f0e5dc2b = L.popup({&quot;maxWidth&quot;: 200, &quot;minWidth&quot;: 200});\n",
       "\n",
       "        \n",
       "            \n",
       "                var i_frame_fb6b96d3393b15c4792e8209a37c829b = $(`&lt;div style=&quot;width:100%;&quot;&gt;&lt;div style=&quot;position:relative;width:100%;height:0;padding-bottom:60%;&quot;&gt;&lt;iframe src=&quot;data:text/html;charset=utf-8;base64,CiAgICA8aDQ+67aA6rK964yA64yA7Jew7Lqg7Y287IqkPC9oND4wNzAxMjxicj7rgqjqtawg64yA7JewM+uPmSA1MzctMQ==&quot; style=&quot;position:absolute;width:100%;height:100%;left:0;top:0;border:none !important;&quot;&gt;&lt;/iframe&gt;&lt;/div&gt;&lt;/div&gt;`)[0];\n",
       "                popup_5eae84e1cd0ab673a574eab8f0e5dc2b.setContent(i_frame_fb6b96d3393b15c4792e8209a37c829b);\n",
       "            \n",
       "        \n",
       "\n",
       "        marker_47c8c3ecd693974da9e7f094678e9c52.bindPopup(popup_5eae84e1cd0ab673a574eab8f0e5dc2b)\n",
       "        ;\n",
       "\n",
       "        \n",
       "    \n",
       "&lt;/script&gt;\n",
       "&lt;/html&gt;\" style=\"position:absolute;width:100%;height:100%;left:0;top:0;border:none !important;\" allowfullscreen webkitallowfullscreen mozallowfullscreen></iframe></div></div>"
      ],
      "text/plain": [
       "<folium.folium.Map at 0x1fb02c42990>"
      ]
     },
     "execution_count": 15,
     "metadata": {},
     "output_type": "execute_result"
    }
   ],
   "source": [
    "import folium\n",
    "\n",
    "if len(station_data) > 0:\n",
    "    center_lat = station_data[0]['lat']\n",
    "    center_lng = station_data[0]['lng']\n",
    "   \n",
    "m = folium.Map(location=[center_lat, center_lng], zoom_start=13)\n",
    "\n",
    "# 전체 정류소 위치값 마커 표시\n",
    "for item in station_data :\n",
    "    stop_str = '<h4>' + item['stationLoc'] + '</h4>' +  item['stationNum'] + '<br>' + item['addr']\n",
    "    iframe = folium.IFrame(stop_str)\n",
    "    popup = folium.Popup(iframe, min_width = 200, max_width = 200) # 팝업사이즈 지정\n",
    "    folium.Marker(location=[item['lat'], item['lng']], popup=popup,\n",
    "                  icon=folium.Icon(icon='pushpin')).add_to(m)\n",
    "m"
   ]
  },
  {
   "attachments": {},
   "cell_type": "markdown",
   "metadata": {},
   "source": [
    "### BeautifulSoup (version 4)\n",
    "\n",
    "웹크롤링을 편하게 해주는 도구(라이브러리)\n",
    "\n",
    "```shell\n",
    "pip install beautifulsoup4\n",
    "```"
   ]
  },
  {
   "cell_type": "code",
   "execution_count": 16,
   "metadata": {},
   "outputs": [
    {
     "name": "stdout",
     "output_type": "stream",
     "text": [
      "Collecting beautifulsoup4\n",
      "  Downloading beautifulsoup4-4.11.2-py3-none-any.whl (129 kB)\n",
      "     ---------------------------------------- 0.0/129.4 kB ? eta -:--:--\n",
      "     -------------------------------------- 129.4/129.4 kB 3.8 MB/s eta 0:00:00\n",
      "Collecting soupsieve>1.2\n",
      "  Downloading soupsieve-2.3.2.post1-py3-none-any.whl (37 kB)\n",
      "Installing collected packages: soupsieve, beautifulsoup4\n",
      "Successfully installed beautifulsoup4-4.11.2 soupsieve-2.3.2.post1\n"
     ]
    }
   ],
   "source": [
    "!pip install beautifulsoup4"
   ]
  },
  {
   "attachments": {},
   "cell_type": "markdown",
   "metadata": {},
   "source": [
    "### 모듈 import\n",
    "\n",
    "```python\n",
    "from bs4 import BeautifulSoup\n",
    "```"
   ]
  },
  {
   "cell_type": "code",
   "execution_count": 22,
   "metadata": {},
   "outputs": [
    {
     "name": "stdout",
     "output_type": "stream",
     "text": [
      "제임스웹 우주망원경 질문이요\n"
     ]
    }
   ],
   "source": [
    "from bs4 import BeautifulSoup\n",
    "import requests\n",
    "\n",
    "url = 'https://kin.naver.com/search/list.naver?query=%EC%A0%9C%EC%9E%84%EC%8A%A4+%EC%9B%B9+%EB%A7%9D%EC%9B%90%EA%B2%BD'\n",
    "\n",
    "response = requests.get(url)\n",
    "\n",
    "if response.status_code == 200: # webpage ok 라는 뜻\n",
    "    html = response.text\n",
    "    soup = BeautifulSoup(html, 'html.parser')\n",
    "    # print(soup)\n",
    "    title = soup.select_one('#s_content > div.section > ul > li:nth-child(1) > dl > dt > a')\n",
    "    print(title.get_text())\n",
    "else:\n",
    "    print(f'Error : {response.status_code}')"
   ]
  },
  {
   "cell_type": "code",
   "execution_count": 26,
   "metadata": {},
   "outputs": [
    {
     "name": "stdout",
     "output_type": "stream",
     "text": [
      "제임스웹 우주망원경 질문이요\n",
      "최고고도 부탁드립니다. 제임스웹 망원경이\n",
      "제임스 웹 망원경 우주사진 원본 어디서... \n",
      "제임스 웹 망원경 촬영 원리\n",
      "제임스 웹 망원경\n",
      "제임스 웹 우주망원경이 찍은 첫 사진은... \n",
      "제임스 웹 망원경의 종류 알려주세요\n",
      "제임스 웹 우주망원경\n",
      "제임스웹 망원경\n",
      "제임스 웹 우주 망원경 제작 기간이\n"
     ]
    }
   ],
   "source": [
    "from bs4 import BeautifulSoup\n",
    "import requests\n",
    "\n",
    "url = 'https://kin.naver.com/search/list.naver?query=%EC%A0%9C%EC%9E%84%EC%8A%A4+%EC%9B%B9+%EB%A7%9D%EC%9B%90%EA%B2%BD'\n",
    "\n",
    "response = requests.get(url)\n",
    "\n",
    "if response.status_code == 200: # webpage ok 라는 뜻\n",
    "    html = response.text\n",
    "    soup = BeautifulSoup(html, 'html.parser')\n",
    "    ul = soup.select_one('ul.basic1')\n",
    "    titles = ul.select('li > dl > dt > a')\n",
    "    for title in titles:\n",
    "        print(title.get_text())\n",
    "else:\n",
    "    print(f'Error : {response.status_code}')"
   ]
  }
 ],
 "metadata": {
  "kernelspec": {
   "display_name": "Python 3",
   "language": "python",
   "name": "python3"
  },
  "language_info": {
   "codemirror_mode": {
    "name": "ipython",
    "version": 3
   },
   "file_extension": ".py",
   "mimetype": "text/x-python",
   "name": "python",
   "nbconvert_exporter": "python",
   "pygments_lexer": "ipython3",
   "version": "3.11.1"
  },
  "orig_nbformat": 4,
  "vscode": {
   "interpreter": {
    "hash": "a3d8f53f1429d27b792a3789224562ddd32c1395c9a9cfbb17b3c19c3b9a493d"
   }
  }
 },
 "nbformat": 4,
 "nbformat_minor": 2
}
