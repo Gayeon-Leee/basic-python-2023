{
 "cells": [
  {
   "attachments": {},
   "cell_type": "markdown",
   "metadata": {},
   "source": [
    "## 1번"
   ]
  },
  {
   "cell_type": "code",
   "execution_count": 1,
   "metadata": {},
   "outputs": [
    {
     "name": "stdout",
     "output_type": "stream",
     "text": [
      "452.389248\n"
     ]
    }
   ],
   "source": [
    "a = float(input('반지름 값을 입력하세요 >> '))\n",
    "p = 3.141592\n",
    "print(a*a*p)"
   ]
  },
  {
   "attachments": {},
   "cell_type": "markdown",
   "metadata": {},
   "source": [
    "## 2번"
   ]
  },
  {
   "cell_type": "code",
   "execution_count": 2,
   "metadata": {},
   "outputs": [
    {
     "name": "stdout",
     "output_type": "stream",
     "text": [
      "목성\n"
     ]
    }
   ],
   "source": [
    "u = input('행성 이름을 입력하세요 >>')\n",
    "universe = {'Mercury':'수성', 'Venus':'금성', 'Earth':'지구', 'Mars':'화성', 'Jupiter':'목성',  'Saturn':'토성', 'Uranus':'천왕성', 'Neptune':'해왕성'}\n",
    "print(universe[u])"
   ]
  },
  {
   "attachments": {},
   "cell_type": "markdown",
   "metadata": {},
   "source": [
    "## 3번"
   ]
  },
  {
   "cell_type": "code",
   "execution_count": 8,
   "metadata": {},
   "outputs": [
    {
     "name": "stdout",
     "output_type": "stream",
     "text": [
      "i'm going to leave the door open = 7\n",
      "i'm GOING to LEAVE the DOOR open "
     ]
    }
   ],
   "source": [
    "string =input('입력하세요 >> ')\n",
    "\n",
    "s = string.split(' ')\n",
    "\n",
    "print(f'{string} = {len(s)}')\n",
    "\n",
    "for i in range(len(s)):\n",
    "    if i%2 == 0:\n",
    "        print(s[i], end=' ')\n",
    "    else :\n",
    "        print(s[i].upper(), end=' ')"
   ]
  },
  {
   "attachments": {},
   "cell_type": "markdown",
   "metadata": {},
   "source": [
    "## 4번"
   ]
  },
  {
   "cell_type": "code",
   "execution_count": 4,
   "metadata": {},
   "outputs": [
    {
     "name": "stdout",
     "output_type": "stream",
     "text": [
      "9 7 5 3 1\n"
     ]
    }
   ],
   "source": [
    "n = input('숫자를 입력하세요 >> ')\n",
    "print(n[::-1])"
   ]
  },
  {
   "attachments": {},
   "cell_type": "markdown",
   "metadata": {},
   "source": [
    "## 5번"
   ]
  },
  {
   "cell_type": "code",
   "execution_count": 7,
   "metadata": {},
   "outputs": [
    {
     "name": "stdout",
     "output_type": "stream",
     "text": [
      " 3  6  9 12 15 18 21 24 27 "
     ]
    }
   ],
   "source": [
    "x = int(input('구구단 > '))\n",
    "\n",
    "for y in range(1,10):\n",
    "    print(f'{x*y:>2}', end=' ')"
   ]
  }
 ],
 "metadata": {
  "kernelspec": {
   "display_name": "venv",
   "language": "python",
   "name": "python3"
  },
  "language_info": {
   "codemirror_mode": {
    "name": "ipython",
    "version": 3
   },
   "file_extension": ".py",
   "mimetype": "text/x-python",
   "name": "python",
   "nbconvert_exporter": "python",
   "pygments_lexer": "ipython3",
   "version": "3.11.1"
  },
  "orig_nbformat": 4,
  "vscode": {
   "interpreter": {
    "hash": "1732cc55dde7803caebda0df0f1738cc035ced225322b7cf344f368c2c40d995"
   }
  }
 },
 "nbformat": 4,
 "nbformat_minor": 2
}
